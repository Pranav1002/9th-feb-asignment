{
 "cells": [
  {
   "cell_type": "code",
   "execution_count": 1,
   "id": "61732cfd-848b-454c-acbf-9109daeb13cf",
   "metadata": {},
   "outputs": [
    {
     "name": "stdout",
     "output_type": "stream",
     "text": [
      "XUV700 180 20\n"
     ]
    }
   ],
   "source": [
    "#1) Create a vehicle class with an init method having instance variables as name_of_vehicle, max_speed and average_of_vehicle.\n",
    "class vehicle:\n",
    "    def __init__(self,name_of_vehicle, max_speed, average_of_vehicle):\n",
    "        self.name_of_vehicle=name_of_vehicle\n",
    "        self.max_speed=max_speed\n",
    "        self.average_of_vehicle=average_of_vehicle\n",
    "        \n",
    "v1=vehicle('XUV700',180,20)\n",
    "\n",
    "print(v1.name_of_vehicle,v1.max_speed,v1.average_of_vehicle)"
   ]
  },
  {
   "cell_type": "code",
   "execution_count": 2,
   "id": "23e625ec-c8ab-4260-bb8c-43e019c611a5",
   "metadata": {},
   "outputs": [
    {
     "name": "stdout",
     "output_type": "stream",
     "text": [
      "('Fortuner', 7)\n"
     ]
    }
   ],
   "source": [
    "#2) Create a child class car from the vehicle class created in Que 1, which will inherit the vehicle class.\n",
    "#   Create a method named seating_capacity which takes capacity as an argument and returns the name of the vehicle and its seating capacity.\n",
    "\n",
    "class car(vehicle):\n",
    "    \n",
    "    def seating_capacity(self,capacity):\n",
    "        self.capacity=capacity\n",
    "        return self.name_of_vehicle, self.capacity\n",
    "\n",
    "c1=car('Fortuner',180,12)\n",
    "\n",
    "print(c1.seating_capacity(7))\n",
    "        "
   ]
  },
  {
   "cell_type": "code",
   "execution_count": 3,
   "id": "7cdb9b78-e5a2-4971-8660-8921ef314121",
   "metadata": {},
   "outputs": [
    {
     "name": "stdout",
     "output_type": "stream",
     "text": [
      "Operating system, web-browser, games\n",
      "keyboard, mouse, printer, cpu, speakers\n",
      "Computer is made of hardware and software\n"
     ]
    }
   ],
   "source": [
    "#3) What is multiple inheritance? Write a python code to demonstrate multiple inheritance.\n",
    "\n",
    "#---> When a class is derived from more than one class then it is known as multiple inheritance.\n",
    "class Hardware:\n",
    "    def hard(self):\n",
    "        print('keyboard, mouse, printer, cpu, speakers')\n",
    "\n",
    "class Software:\n",
    "    def soft(self):\n",
    "        print('Operating system, web-browser, games')\n",
    "        \n",
    "class Computer(Hardware, Software):\n",
    "    def comp(self):\n",
    "        print('Computer is made of hardware and software')\n",
    "    \n",
    "c1=Computer()\n",
    "\n",
    "c1.soft()\n",
    "c1.hard()\n",
    "c1.comp()"
   ]
  },
  {
   "cell_type": "code",
   "execution_count": 8,
   "id": "e97aac7b-bd38-4226-bcab-7a666d3fda25",
   "metadata": {},
   "outputs": [
    {
     "name": "stdout",
     "output_type": "stream",
     "text": [
      "XUV700 180 20\n",
      "Rang Rover\n",
      "220\n",
      "20\n"
     ]
    }
   ],
   "source": [
    "#4) What are getter and setter in python? Create a class and create a getter and a setter method in this class.\n",
    "'''\n",
    "Getter: A method that allows you to access an attribute in a given class. \n",
    "Setter: A method that allows you to set or mutate the value of an attribute in a class.\n",
    "'''\n",
    "\n",
    "class vehicle:\n",
    "    def __init__(self,name_of_vehicle, max_speed, average_of_vehicle):\n",
    "        self.name_of_vehicle=name_of_vehicle\n",
    "        self.max_speed=max_speed\n",
    "        self.average_of_vehicle=average_of_vehicle\n",
    "        \n",
    "    def setName(self,name):\n",
    "        self.name_of_vehicle=name\n",
    "        \n",
    "    def setSpeed(self,speed):\n",
    "        self.max_speed=speed\n",
    "        \n",
    "    def setAvg(self,avg):\n",
    "        self.average_of_vehicle=avg\n",
    "        \n",
    "    def getName(self):\n",
    "        print(self.name_of_vehicle)\n",
    "        \n",
    "    def getSpeed(self):\n",
    "        print(self.max_speed)\n",
    "        \n",
    "    def getAvg(self):\n",
    "        print(self.average_of_vehicle)\n",
    "        \n",
    "v1=vehicle('XUV700',180,20)\n",
    "\n",
    "print(v1.name_of_vehicle,v1.max_speed,v1.average_of_vehicle)\n",
    "\n",
    "v1.setName('Rang Rover')\n",
    "v1.setSpeed(220)\n",
    "v1.setAvg(20)\n",
    "\n",
    "v1.getName()\n",
    "v1.getSpeed()\n",
    "v1.getAvg()\n",
    "    "
   ]
  },
  {
   "cell_type": "code",
   "execution_count": null,
   "id": "b519132a-e61f-453a-b439-64719271888f",
   "metadata": {},
   "outputs": [],
   "source": [
    "#5) What is method overriding in python? Write a python code to demonstrate method overriding.\n",
    "'''\n",
    "Method overriding in Python is when you have two methods with the same name that each perform different tasks.\n",
    "'''\n"
   ]
  }
 ],
 "metadata": {
  "kernelspec": {
   "display_name": "Python 3 (ipykernel)",
   "language": "python",
   "name": "python3"
  },
  "language_info": {
   "codemirror_mode": {
    "name": "ipython",
    "version": 3
   },
   "file_extension": ".py",
   "mimetype": "text/x-python",
   "name": "python",
   "nbconvert_exporter": "python",
   "pygments_lexer": "ipython3",
   "version": "3.10.6"
  }
 },
 "nbformat": 4,
 "nbformat_minor": 5
}
